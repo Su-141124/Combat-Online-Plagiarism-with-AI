{
 "cells": [
  {
   "cell_type": "code",
   "execution_count": 4,
   "id": "195aea11-81be-45d4-be3e-7efd14fb5aeb",
   "metadata": {},
   "outputs": [
    {
     "name": "stdout",
     "output_type": "stream",
     "text": [
      "Plagiarism Report (AI-based Semantic Similarity):\n",
      "\n",
      "john.txt <--> juma.txt => Similarity: 0.71\n",
      "fatma.txt <--> juma.txt => Similarity: 0.54\n",
      "fatma.txt <--> john.txt => Similarity: 0.48\n",
      "fatma.txt <--> requirements.txt => Similarity: 0.11\n",
      "juma.txt <--> requirements.txt => Similarity: 0.04\n",
      "john.txt <--> requirements.txt => Similarity: 0.03\n"
     ]
    }
   ],
   "source": [
    "import os\n",
    "from sentence_transformers import SentenceTransformer, util\n",
    "\n",
    "# 🔹 SET YOUR FOLDER PATH HERE\n",
    "folder_path = r\"C:\\Users\\SHAIK SUHANA\\Downloads\\Plagiarism-checker-Python-master\\Plagiarism-checker-Python-master\"  # Change this to your actual path\n",
    "os.chdir(folder_path)  # Change working directory to your folder\n",
    "\n",
    "# 🔹 Load the pre-trained AI model\n",
    "model = SentenceTransformer('all-MiniLM-L6-v2')\n",
    "\n",
    "# 🔹 Load all .txt files from the folder\n",
    "student_files = [f for f in os.listdir() if f.endswith('.txt')]\n",
    "student_notes = [open(file, 'r', encoding='utf-8').read() for file in student_files]\n",
    "\n",
    "# 🔹 Compute AI embeddings\n",
    "embeddings = model.encode(student_notes, convert_to_tensor=True)\n",
    "\n",
    "# 🔹 Compare similarity\n",
    "plagiarism_results = []\n",
    "for i in range(len(student_files)):\n",
    "    for j in range(i + 1, len(student_files)):\n",
    "        similarity_score = util.cos_sim(embeddings[i], embeddings[j]).item()\n",
    "        plagiarism_results.append((student_files[i], student_files[j], similarity_score))\n",
    "\n",
    "# 🔹 Sort and display results\n",
    "plagiarism_results.sort(key=lambda x: x[2], reverse=True)\n",
    "\n",
    "print(\"Plagiarism Report (AI-based Semantic Similarity):\\n\")\n",
    "for file1, file2, score in plagiarism_results:\n",
    "    print(f\"{file1} <--> {file2} => Similarity: {score:.2f}\")\n"
   ]
  }
 ],
 "metadata": {
  "kernelspec": {
   "display_name": "Python 3 (ipykernel)",
   "language": "python",
   "name": "python3"
  },
  "language_info": {
   "codemirror_mode": {
    "name": "ipython",
    "version": 3
   },
   "file_extension": ".py",
   "mimetype": "text/x-python",
   "name": "python",
   "nbconvert_exporter": "python",
   "pygments_lexer": "ipython3",
   "version": "3.10.10"
  }
 },
 "nbformat": 4,
 "nbformat_minor": 5
}
